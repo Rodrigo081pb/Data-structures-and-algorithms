{
 "cells": [
  {
   "cell_type": "markdown",
   "id": "fd54942c",
   "metadata": {},
   "source": [
    "# Planejador de Rotas - Algoritmo A*\n",
    "Este notebook implementa e testa o algoritmo de pesquisa A* (A-star) usando a função shortest_path."
   ]
  },
  {
   "cell_type": "code",
   "execution_count": null,
   "id": "2f0193bf",
   "metadata": {},
   "outputs": [],
   "source": [
    "# Importar bibliotecas necessárias\n",
    "import heapq\n",
    "import math\n",
    "from student_code import shortest_path"
   ]
  },
  {
   "cell_type": "code",
   "execution_count": null,
   "id": "5108a306",
   "metadata": {},
   "outputs": [],
   "source": [
    "# Função heurística admissível (distância Euclidiana)\n",
    "def heuristic(node, goal):\n",
    "    x1, y1 = node\n",
    "    x2, y2 = goal\n",
    "    return math.hypot(x2 - x1, y2 - y1)\n",
    "\n",
    "# Exemplo de grafo como dicionário\n",
    "# Cada nó é uma tupla (x, y), cada valor é uma lista de (vizinho, custo)\n",
    "graph = {\n",
    "    (0, 0): [((1, 0), 1), ((0, 1), 1)],\n",
    "    (1, 0): [((1, 1), 1), ((0, 0), 1)],\n",
    "    (0, 1): [((1, 1), 1), ((0, 0), 1)],\n",
    "    (1, 1): [((1, 0), 1), ((0, 1), 1)]\n",
    "}"
   ]
  },
  {
   "cell_type": "code",
   "execution_count": null,
   "id": "fa1964cf",
   "metadata": {},
   "outputs": [],
   "source": [
    "# Teste simples do algoritmo A*\n",
    "start = (0, 0)\n",
    "goal = (1, 1)\n",
    "caminho = shortest_path(graph, start, goal, heuristic)\n",
    "print('Caminho encontrado:', caminho)\n",
    "print('Custo:', len(caminho)-1 if caminho else 'Não encontrado')"
   ]
  },
  {
   "cell_type": "markdown",
   "id": "c9e2315a",
   "metadata": {},
   "source": [
    "## Resultados dos Testes\n",
    "O caminho encontrado e o custo são exibidos acima. Se o caminho e o custo estiverem corretos, o algoritmo A* está funcionando conforme esperado."
   ]
  }
 ],
 "metadata": {
  "language_info": {
   "name": "python"
  }
 },
 "nbformat": 4,
 "nbformat_minor": 5
}

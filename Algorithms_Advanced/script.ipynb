{
 "cells": [
  {
   "cell_type": "code",
   "execution_count": null,
   "id": "f6f47880",
   "metadata": {},
   "outputs": [],
   "source": [
    "import heapq\n",
    "import math\n",
    "\n",
    "def heuristic(a, b):\n",
    "    # Euclidean distance\n",
    "    return math.sqrt((a[0] - b[0])**2 + (a[1] - b[1])**2)\n",
    "\n",
    "def shortest_path(M, start, goal):\n",
    "    intersections = M.intersections\n",
    "    roads = M.roads\n",
    "\n",
    "    frontier = []\n",
    "    heapq.heappush(frontier, (0 + heuristic(intersections[start], intersections[goal]), 0, start, [start]))\n",
    "    explored = set()\n",
    "    cost_so_far = {start: 0}\n",
    "\n",
    "    while frontier:\n",
    "        _, cost, current, path = heapq.heappop(frontier)\n",
    "\n",
    "        if current == goal:\n",
    "            return path\n",
    "\n",
    "        if current in explored:\n",
    "            continue\n",
    "        explored.add(current)\n",
    "\n",
    "        for neighbor in roads[current]:\n",
    "            new_cost = cost + heuristic(intersections[current], intersections[neighbor])\n",
    "            if neighbor not in cost_so_far or new_cost < cost_so_far[neighbor]:\n",
    "                cost_so_far[neighbor] = new_cost\n",
    "                priority = new_cost + heuristic(intersections[neighbor], intersections[goal])\n",
    "                heapq.heappush(frontier, (priority, new_cost, neighbor, path + [neighbor]))\n",
    "\n",
    "    return []"
   ]
  }
 ],
 "metadata": {
  "language_info": {
   "name": "python"
  }
 },
 "nbformat": 4,
 "nbformat_minor": 5
}

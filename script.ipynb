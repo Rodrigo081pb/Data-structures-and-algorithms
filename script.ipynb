{
 "cells": [
  {
   "cell_type": "code",
   "execution_count": null,
   "id": "b33d6a73",
   "metadata": {},
   "outputs": [],
   "source": [
    "# Exercício 1: Menor positivo\n",
    "# Termine de escrever, que é uma função que encontra o menor número positivo em uma lista.smallest_positive\n",
    "\n",
    "def menor_positivo(numeros):\n",
    "    menor = None\n",
    "    for numero in numeros:\n",
    "        if numero > 0:\n",
    "            if menor is None or numero < menor:\n",
    "                menor = numero\n",
    "    return menor\n",
    "\n",
    "print(menor_positivo([-10, -5, 0, 3, 7, 5])) \n"
   ]
  },
  {
   "cell_type": "code",
   "execution_count": 2,
   "id": "066c0854",
   "metadata": {},
   "outputs": [
    {
     "name": "stdout",
     "output_type": "stream",
     "text": [
      "Hello!\n",
      "Hello!\n"
     ]
    }
   ],
   "source": [
    "def say_hello(n):\n",
    "    for i in range(n):\n",
    "        print(\"Hello!\")\n",
    "\n",
    "say_hello(2)"
   ]
  },
  {
   "cell_type": "code",
   "execution_count": null,
   "id": "1d38f4fc",
   "metadata": {},
   "outputs": [],
   "source": [
    "def daysBetween_dates(year1, month1, day1, year2, month2, day2):\n",
    "    days = 0\n",
    "    while dateIsBefore_(year1, month1, day1, year2, month2, day2):\n",
    "        days += 1\n",
    "        year1, month1, day1 = nextDay(year1, month1, day1)\n",
    "    return days"
   ]
  },
  {
   "cell_type": "code",
   "execution_count": null,
   "id": "84bd288a",
   "metadata": {},
   "outputs": [],
   "source": [
    "\n",
    "# Exercício 2: Quando oferecido\n",
    "# Suponha que você esteja planejando fazer cursos adicionais em sua instituição educacional local e tenha adquirido alguns dados sobre os cursos disponíveis e quando eles serão oferecidos. No exercício a seguir, você escreverá estruturas de controle para processar os dados e retornar os semestres quando um determinado curso for oferecido.\n",
    "\n",
    "# Você precisará concluir a função . Essa função aceita uma estrutura de dados \"cursos\" e uma cadeia de caracteres \"curso\". A função deve retornar uma lista de strings que representam os semestres em que o curso de entrada é oferecido. Veja os dois casos de teste abaixo para obter exemplos de resultados corretos.when_offered(courses, course)\n",
    "\n",
    "# Como a função aceita uma estrutura de dados de dicionário, você encontrará owhen_offered\n",
    "\n",
    "# método .items() útil para iterar sobre os pares chave-valor do dicionário.courses.items()\n",
    "\n",
    "def quando_oferecido(cursos, curso):\n",
    "    semestres = []\n",
    "    for semestre, lista_cursos in cursos.items():\n",
    "        if curso in lista_cursos:\n",
    "            semestres.append(semestre)\n",
    "    return semestres\n",
    "\n",
    "cursos = {\n",
    "    \"Spring 2020\": [\"CS101\", \"CS373\", \"MA101\"],\n",
    "    \"Fall 2020\": [\"CS101\", \"CS202\", \"MA101\"],\n",
    "    \"Spring 2021\": [\"CS373\", \"CS202\", \"MA101\"],\n",
    "}\n",
    "\n",
    "print(quando_oferecido(cursos, \"CS101\"))  # Deve retornar [\"Spring 2020\", \"Fall 2020\"]\n"
   ]
  },
  {
   "cell_type": "code",
   "execution_count": null,
   "id": "cb70e723",
   "metadata": {},
   "outputs": [],
   "source": [
    "# sorteador \n",
    "\n",
    "def sorteador(lista):\n",
    "    lista.sort()\n",
    "    return lista\n",
    "\n",
    "print(sorteador([3, 1, 4, 1, 5, 9, 2, 6, 5, 3, 5]))"
   ]
  },
  {
   "cell_type": "code",
   "execution_count": null,
   "id": "ed4f7f96",
   "metadata": {},
   "outputs": [],
   "source": [
    "def produto(a,b):\n",
    "    return a*b\n",
    "\n",
    "def fat_gen():\n",
    "    i = 1 \n",
    "    n = 1\n",
    "    while True:\n",
    "        output = produto(n,i)\n",
    "        yield output\n",
    "        i += 1\n",
    "        n = output\n",
    "\n",
    "my_gen = fat_gen()\n",
    "for _ in range(5):\n",
    "    print(next(my_gen))"
   ]
  },
  {
   "cell_type": "code",
   "execution_count": null,
   "id": "a4728da3",
   "metadata": {},
   "outputs": [],
   "source": [
    "def soduko(square):\n",
    "    for row in square:\n",
    "        check_list = list(range(1,len(square[0]) + 1))\n",
    "        for i in row:\n",
    "            if i not in check_list:\n",
    "                return False\n",
    "            check_list.remove(i)\n",
    "    for n in range(len(square[0])):\n",
    "        check_list = list(range(1,len(square[0]) + 1))\n",
    "        for row in square:\n",
    "            if row[n] not in check_list:\n",
    "                return False\n",
    "            check_list.remove(row[n])\n",
    "    return True\n",
    "\n",
    "# fazendo uso da função \n"
   ]
  },
  {
   "cell_type": "code",
   "execution_count": null,
   "id": "6dd65fa8",
   "metadata": {},
   "outputs": [],
   "source": [
    "def todos():\n",
    "    n = 0\n",
    "    while True:\n",
    "        yield n\n",
    "        n += 2\n",
    "\n",
    "my_gen = todos()\n",
    "\n",
    "for i in range(5):\n",
    "    print(next(my_gen))"
   ]
  },
  {
   "cell_type": "code",
   "execution_count": null,
   "id": "c24d97d1",
   "metadata": {},
   "outputs": [],
   "source": [
    "def aniv_abril(people):\n",
    "    abril_aniv = {}\n",
    "    for person in people:\n",
    "        if person.mes_aniv == 'Abril':\n",
    "            person.age +=1\n",
    "            abril_aniv[person.name] = person.age\n",
    "\n",
    "        return abril_aniv\n",
    "    \n",
    "# --- IGNORE ---\n",
    "class Pessoa:\n",
    "    def __init__(self, name, age, mes_aniv):\n",
    "        self.name = name\n",
    "        self.age = age\n",
    "        self.mes_aniv = mes_aniv\n",
    "\n",
    "p1 = Pessoa(\"Alice\", 30, \"Abril\")\n",
    "p2 = Pessoa(\"Bob\", 25, \"Maio\")\n",
    "p3 = Pessoa(\"Charlie\", 35, \"Abril\")\n",
    "people = [p1, p2, p3]\n",
    "print(aniv_abril(people))  # Deve retornar {'Alice': 31, '"
   ]
  },
  {
   "cell_type": "code",
   "execution_count": 24,
   "id": "13f5accc",
   "metadata": {},
   "outputs": [
    {
     "data": {
      "text/plain": [
       "'Abril'"
      ]
     },
     "execution_count": 24,
     "metadata": {},
     "output_type": "execute_result"
    }
   ],
   "source": [
    "def obter_mes_comum(people):\n",
    "    meses = {\n",
    "        'Janeiro': 0,\n",
    "        'Fevereiro': 0,\n",
    "        'Março': 0,\n",
    "        'Abril': 0,\n",
    "        'Maio': 0,\n",
    "        'Junho': 0,\n",
    "        'Julho': 0,\n",
    "        'Agosto': 0,\n",
    "        'Setembro': 0,\n",
    "        'Outubro': 0,\n",
    "        'Novembro': 0,\n",
    "        'Dezembro': 0\n",
    "    }\n",
    "\n",
    "    for person in people:\n",
    "        meses[person.mes_aniv] += 1\n",
    "\n",
    "    max_mes = None\n",
    "    max_valor = 0\n",
    "    for key in meses.keys():\n",
    "        if meses[key] > max_valor:\n",
    "            max_valor = meses[key]\n",
    "            max_mes = key\n",
    "\n",
    "    return max_mes\n",
    "\n",
    "p5 = Pessoa(\"David\", 28, \"Março\")\n",
    "p8 = Pessoa(\"Eva\", 22, \"Abril\")\n",
    "p10 = Pessoa(\"Frank\", 33, \"Maio\")\n",
    "p12 = Pessoa(\"Grace\", 27, \"Abril\")\n",
    "\n",
    "obter_mes_comum([p1, p2, p3, p5, p8, p10, p12])  \n"
   ]
  }
 ],
 "metadata": {
  "kernelspec": {
   "display_name": "Python 3",
   "language": "python",
   "name": "python3"
  },
  "language_info": {
   "codemirror_mode": {
    "name": "ipython",
    "version": 3
   },
   "file_extension": ".py",
   "mimetype": "text/x-python",
   "name": "python",
   "nbconvert_exporter": "python",
   "pygments_lexer": "ipython3",
   "version": "3.13.7"
  }
 },
 "nbformat": 4,
 "nbformat_minor": 5
}
